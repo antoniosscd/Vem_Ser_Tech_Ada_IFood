{
  "cells": [
    {
      "cell_type": "markdown",
      "id": "14fbb9c6",
      "metadata": {
        "id": "14fbb9c6"
      },
      "source": [
        "# Codificação e decodificação de mensagens com Python"
      ]
    },
    {
      "cell_type": "markdown",
      "id": "fc1b2ffb",
      "metadata": {
        "id": "fc1b2ffb"
      },
      "source": [
        "## Contextualização\n",
        "\n",
        "A PyCoders Ltda., cada vez mais especializada no mundo da Inteligência Artificial e Ciência de Dados, foi procurada por uma fintech para desenvolver um projeto codificação de dados.\n",
        "\n",
        "A fintech percebeu que muitas das informações usadas na área de inteligência de negócios, estão sendo roubadas por uma empresa concorrente!\n",
        "\n",
        "Para lidar com esse problema, um dos funcionários sugeriu que os dados sejam codificados usando uma chave secreta, e unicamente quem souber a chave secreta poderá conseguir decodificar a mensagem e visualizar os dados originais.\n",
        "\n",
        "Como existe muito risco de a chave vazar e de qualquer forma os dados serem roubados, a chave tem que ser alterada com frequência, fazendo desta forma que a codificação seja dependente da senha!\n",
        "\n",
        "Por exemplo:\n",
        "\n",
        "Se eu tiver a mensagem: 'Hello world!'\n",
        "- A mensagem codificada com uma chave aleatória X, poderia ser: ```'bdgdjh3bvd8397'```\n",
        "\n",
        "- E, a mesma mensagem codificada com uma chave aleatória Y, poderia ser: ```'oouyrjrhyw26'```"
      ]
    },
    {
      "cell_type": "markdown",
      "id": "4a7cb738",
      "metadata": {
        "id": "4a7cb738"
      },
      "source": [
        "## Obejtivo de projeto\n",
        "\n",
        "O objetivo deste projeto é codificar e decodificar mensagens usando uma chave comum.\n",
        "\n",
        "1. Neste projeto, os usuários devem inserir a mensagem para codificar ou decodificar.\n",
        "2. Os usuários devem selecionar o modo para escolher o processo de codificação e decodificação.\n",
        "3. A mesma chave deve ser usada para processar a codificação e decodificação da mesma mensagem.\n",
        "\n",
        "ATENÇÃO: Considerar que duas chaves diferentes devem gerar, _em geral_, codificações e/ou decodificações diferentes!"
      ]
    },
    {
      "cell_type": "markdown",
      "id": "79afd15b",
      "metadata": {
        "id": "79afd15b"
      },
      "source": [
        "## Exemplo:\n",
        "\n",
        "1. O sistema deve perguntar ao usuário se deseja codificar ou decodificar a mensagem, ou se deseja sair do processo.\n",
        "\n",
        "2. Se o usuário selecionou que deseja codificar ou decodificar, o sistema agora deve solicitar ao usuário que informe:\n",
        "\n",
        "- Caso for selecionado codificar: o sistema deve pedir para o usuário colocar a frase a ser codificada.\n",
        "- Caso for selecionado decodificar: o sistema deve pedir para o usuário colocar a frase a ser decodificada.\n",
        "\n",
        "3. Uma vez informada a frase (a codificar ou codificada), o sistema deve pedir para o usuário informar a chave secreta.\n",
        "\n",
        "4. Uma vez que o sistema receba a chave, deve mostrar a mensagem codificada ou decodificada.\n",
        "\n",
        "5. Finalmente o sistema deve voltar a etapa 1.\n",
        "\n",
        "\n"
      ]
    },
    {
      "cell_type": "code",
      "execution_count": null,
      "id": "9a31efdb",
      "metadata": {
        "id": "9a31efdb"
      },
      "outputs": [],
      "source": [
        "# Exemplo codificação:\n",
        "mensagem = 'Jorge'\n",
        "chave = '123'\n",
        "\n",
        "# Criterio de codificacao naive: colocar a chave entre as letras originais\n",
        "mensagem_codificada = 'J123o123r123g123e'"
      ]
    },
    {
      "cell_type": "code",
      "execution_count": null,
      "id": "4eada77e",
      "metadata": {
        "id": "4eada77e"
      },
      "outputs": [],
      "source": [
        "# Para decodificação:\n",
        "mensagem_codificada = 'J123o123r123g123e'\n",
        "chave = '123'\n",
        "\n",
        "mensagem_decodificada = 'Jorge'"
      ]
    },
    {
      "cell_type": "markdown",
      "id": "c6eee132",
      "metadata": {
        "id": "c6eee132"
      },
      "source": [
        "### Considerações importantes:\n",
        "\n",
        "1. É obrigatorio garantir que vamos conseguir decodificar uma mensagem codificada.\n",
        "2. A chave pode ser quaquer uma, ou seja: combinação de números, letras e carateres especiais.\n",
        "3. Faça vários testes, e identifique situações nas quais seu algoritmo vai ter mais dificuldade, e a partir disso pense em melhorias a serem feitas no seu algoritmo.\n",
        "4. Aplique todos os conteúdos aprendidos durante esse módulo para a entrega deste projeto.\n",
        "5. Está proibido o uso de bibliotecas do python que já realizem codificação e decodificação de mensagens.\n",
        "\n",
        "### Organização e entregáveis\n",
        "\n",
        "\n",
        "2. O projeto completo (Notebook, código-fonte, link para fontes, bases e demais artefatos) deve ser enviado via git (do professor) com nome dos participantes.\n",
        "\n",
        "Boa sorte e divirta-se!!"
      ]
    },
    {
      "cell_type": "markdown",
      "id": "-gucq9lRw6W-",
      "metadata": {
        "id": "-gucq9lRw6W-"
      },
      "source": [
        "**===========================================================================\n",
        "**"
      ]
    },
    {
      "cell_type": "markdown",
      "id": "mmyIFqx6--18",
      "metadata": {
        "id": "mmyIFqx6--18"
      },
      "source": [
        "Professor:\n",
        "\n",
        "* Tiago Marto\n",
        "\n",
        "Aluno:\n",
        "\n",
        "* Antônio Sousa"
      ]
    },
    {
      "cell_type": "markdown",
      "id": "taJegiq5ruak",
      "metadata": {
        "id": "taJegiq5ruak"
      },
      "source": [
        "Na implementação da criptografia, utilizamos duas técnicas simples: O exemplo demostrado no escopo do projeto, inserir a chave entre os caracteres da mensagem e, também nos inspiramos na Cifra de César, porém adaptada para receber caracteres especiais e letras acentuadas, englobando toda a parte dos caracteres imprimíveis da tabela ASCII. O código, ao calcular aposição do caractere a ser retornado, varia no intervalo compreendido entre 32 a 255 na tabela.  \n",
        "\n",
        "Contextualizando.\n",
        "\n",
        "No escopo do projeto é citado o termo \"Critério de codificação naive\". Esse termo quer dizer simples, ou ingênuo. Como o exemplo utilizado de colocar a chave entre as letras originais da mensagem.\n",
        "\n",
        "Em criptografia, a Cifra de César, também conhecida como cifra de troca, código de César ou troca de César, é uma das mais simples e conhecidas técnicas de criptografia. É um tipo de cifra de substituição na qual cada letra do texto é substituída por outra, que se apresenta no alfabeto abaixo dela um número fixo de vezes. Por exemplo, com uma troca de três posições, A seria substituído por D, B se tornaria E, e assim por diante. O nome do método é em homenagem a Júlio César, que o usou para se comunicar com os seus generais.\n",
        "\n",
        "O processo de criptografia de uma cifra de César é frequentemente incorporado como parte de esquemas mais complexos, como a cifra de Vigenère, e continua tendo aplicações modernas, como no sistema ROT13. Como todas as cifras de substituição monoalfabéticas, a cifra de César é facilmente decifrada e na prática não oferece essencialmente nenhuma segurança na comunicação.\n",
        "\n",
        "\n",
        "by:\n",
        "https://pt.wikipedia.org/wiki/Cifra_de_C%C3%A9sar\n"
      ]
    },
    {
      "cell_type": "code",
      "execution_count": null,
      "id": "k6dbGDrrrZxO",
      "metadata": {
        "colab": {
          "base_uri": "https://localhost:8080/"
        },
        "id": "k6dbGDrrrZxO",
        "outputId": "7a4c843f-eabf-4f6a-f95b-5450101d792e"
      },
      "outputs": [
        {
          "name": "stdout",
          "output_type": "stream",
          "text": [
            "====================================================================================================\n",
            "\n",
            "Selecione a opção:\n",
            "\n",
            "1. Codificar mensagem\n",
            "2. Decodificar mensagem\n",
            "3. Sair\n",
            "\n",
            "Digite o número da opção desejada: 1\n",
            "\n",
            "Digite a mensagem a ser codificada: É genial festejar o sucesso, mas é mais importante aprender com as lições do fracasso. Bill Gates\n",
            "\n",
            "Digite a chave secreta: 1turma_1106_VST*\n",
            "\n",
            "Mensagem codificada: ÙA}qoAA@Fofcd:0A}qoAA@Fofcd:wA}qoAA@Fofcd:uA}qoAA@Fofcd:~A}qoAA@Fofcd:yA}qoAA@Fofcd:qA}qoAA@Fofcd:|A}qoAA@Fofcd:0A}qoAA@Fofcd:vA}qoAA@Fofcd:uA}qoAA@Fofcd:A}qoAA@Fofcd:A}qoAA@Fofcd:uA}qoAA@Fofcd:zA}qoAA@Fofcd:qA}qoAA@Fofcd:A}qoAA@Fofcd:0A}qoAA@Fofcd:A}qoAA@Fofcd:0A}qoAA@Fofcd:A}qoAA@Fofcd:A}qoAA@Fofcd:sA}qoAA@Fofcd:uA}qoAA@Fofcd:A}qoAA@Fofcd:A}qoAA@Fofcd:A}qoAA@Fofcd:<A}qoAA@Fofcd:0A}qoAA@Fofcd:}A}qoAA@Fofcd:qA}qoAA@Fofcd:A}qoAA@Fofcd:0A}qoAA@Fofcd:ùA}qoAA@Fofcd:0A}qoAA@Fofcd:}A}qoAA@Fofcd:qA}qoAA@Fofcd:yA}qoAA@Fofcd:A}qoAA@Fofcd:0A}qoAA@Fofcd:yA}qoAA@Fofcd:}A}qoAA@Fofcd:A}qoAA@Fofcd:A}qoAA@Fofcd:A}qoAA@Fofcd:A}qoAA@Fofcd:qA}qoAA@Fofcd:~A}qoAA@Fofcd:A}qoAA@Fofcd:uA}qoAA@Fofcd:0A}qoAA@Fofcd:qA}qoAA@Fofcd:A}qoAA@Fofcd:A}qoAA@Fofcd:uA}qoAA@Fofcd:~A}qoAA@Fofcd:tA}qoAA@Fofcd:uA}qoAA@Fofcd:A}qoAA@Fofcd:0A}qoAA@Fofcd:sA}qoAA@Fofcd:A}qoAA@Fofcd:}A}qoAA@Fofcd:0A}qoAA@Fofcd:qA}qoAA@Fofcd:A}qoAA@Fofcd:0A}qoAA@Fofcd:|A}qoAA@Fofcd:yA}qoAA@Fofcd:÷A}qoAA@Fofcd:%A}qoAA@Fofcd:uA}qoAA@Fofcd:A}qoAA@Fofcd:0A}qoAA@Fofcd:tA}qoAA@Fofcd:A}qoAA@Fofcd:0A}qoAA@Fofcd:vA}qoAA@Fofcd:A}qoAA@Fofcd:qA}qoAA@Fofcd:sA}qoAA@Fofcd:qA}qoAA@Fofcd:A}qoAA@Fofcd:A}qoAA@Fofcd:A}qoAA@Fofcd:>A}qoAA@Fofcd:0A}qoAA@Fofcd:RA}qoAA@Fofcd:yA}qoAA@Fofcd:|A}qoAA@Fofcd:|A}qoAA@Fofcd:0A}qoAA@Fofcd:WA}qoAA@Fofcd:qA}qoAA@Fofcd:A}qoAA@Fofcd:uA}qoAA@Fofcd:A}qoAA@Fofcd:\n",
            "====================================================================================================\n",
            "\n",
            "Selecione a opção:\n",
            "\n",
            "1. Codificar mensagem\n",
            "2. Decodificar mensagem\n",
            "3. Sair\n",
            "\n",
            "Digite o número da opção desejada: 1\n",
            "\n",
            "Digite a mensagem a ser codificada: Os líderes do futuro são os que empoderam os outros. Bill Gates\n",
            "\n",
            "Digite a chave secreta: 2turma_1106_VST*\n",
            "\n",
            "Mensagem codificada: _B}qoAA@Fofcd:B}qoAA@Fofcd:0B}qoAA@Fofcd:|B}qoAA@Fofcd:ýB}qoAA@Fofcd:tB}qoAA@Fofcd:uB}qoAA@Fofcd:B}qoAA@Fofcd:uB}qoAA@Fofcd:B}qoAA@Fofcd:0B}qoAA@Fofcd:tB}qoAA@Fofcd:B}qoAA@Fofcd:0B}qoAA@Fofcd:vB}qoAA@Fofcd:B}qoAA@Fofcd:B}qoAA@Fofcd:B}qoAA@Fofcd:B}qoAA@Fofcd:B}qoAA@Fofcd:0B}qoAA@Fofcd:B}qoAA@Fofcd:óB}qoAA@Fofcd:B}qoAA@Fofcd:0B}qoAA@Fofcd:B}qoAA@Fofcd:B}qoAA@Fofcd:0B}qoAA@Fofcd:B}qoAA@Fofcd:B}qoAA@Fofcd:uB}qoAA@Fofcd:0B}qoAA@Fofcd:uB}qoAA@Fofcd:}B}qoAA@Fofcd:B}qoAA@Fofcd:B}qoAA@Fofcd:tB}qoAA@Fofcd:uB}qoAA@Fofcd:B}qoAA@Fofcd:qB}qoAA@Fofcd:}B}qoAA@Fofcd:0B}qoAA@Fofcd:B}qoAA@Fofcd:B}qoAA@Fofcd:0B}qoAA@Fofcd:B}qoAA@Fofcd:B}qoAA@Fofcd:B}qoAA@Fofcd:B}qoAA@Fofcd:B}qoAA@Fofcd:B}qoAA@Fofcd:>B}qoAA@Fofcd:0B}qoAA@Fofcd:RB}qoAA@Fofcd:yB}qoAA@Fofcd:|B}qoAA@Fofcd:|B}qoAA@Fofcd:0B}qoAA@Fofcd:WB}qoAA@Fofcd:qB}qoAA@Fofcd:B}qoAA@Fofcd:uB}qoAA@Fofcd:B}qoAA@Fofcd:\n",
            "====================================================================================================\n",
            "\n",
            "Selecione a opção:\n",
            "\n",
            "1. Codificar mensagem\n",
            "2. Decodificar mensagem\n",
            "3. Sair\n",
            "\n",
            "Digite o número da opção desejada: 1\n",
            "\n",
            "Digite a mensagem a ser codificada: É mais fácil ser o primeiro, do que continuar a ser o primeiro. Bill Gates\n",
            "\n",
            "Digite a chave secreta: 3turma_1106_VST*\n",
            "\n",
            "Mensagem codificada: ÙC}qoAA@Fofcd:0C}qoAA@Fofcd:}C}qoAA@Fofcd:qC}qoAA@Fofcd:yC}qoAA@Fofcd:C}qoAA@Fofcd:0C}qoAA@Fofcd:vC}qoAA@Fofcd:ñC}qoAA@Fofcd:sC}qoAA@Fofcd:yC}qoAA@Fofcd:|C}qoAA@Fofcd:0C}qoAA@Fofcd:C}qoAA@Fofcd:uC}qoAA@Fofcd:C}qoAA@Fofcd:0C}qoAA@Fofcd:C}qoAA@Fofcd:0C}qoAA@Fofcd:C}qoAA@Fofcd:C}qoAA@Fofcd:yC}qoAA@Fofcd:}C}qoAA@Fofcd:uC}qoAA@Fofcd:yC}qoAA@Fofcd:C}qoAA@Fofcd:C}qoAA@Fofcd:<C}qoAA@Fofcd:0C}qoAA@Fofcd:tC}qoAA@Fofcd:C}qoAA@Fofcd:0C}qoAA@Fofcd:C}qoAA@Fofcd:C}qoAA@Fofcd:uC}qoAA@Fofcd:0C}qoAA@Fofcd:sC}qoAA@Fofcd:C}qoAA@Fofcd:~C}qoAA@Fofcd:C}qoAA@Fofcd:yC}qoAA@Fofcd:~C}qoAA@Fofcd:C}qoAA@Fofcd:qC}qoAA@Fofcd:C}qoAA@Fofcd:0C}qoAA@Fofcd:qC}qoAA@Fofcd:0C}qoAA@Fofcd:C}qoAA@Fofcd:uC}qoAA@Fofcd:C}qoAA@Fofcd:0C}qoAA@Fofcd:C}qoAA@Fofcd:0C}qoAA@Fofcd:C}qoAA@Fofcd:C}qoAA@Fofcd:yC}qoAA@Fofcd:}C}qoAA@Fofcd:uC}qoAA@Fofcd:yC}qoAA@Fofcd:C}qoAA@Fofcd:C}qoAA@Fofcd:>C}qoAA@Fofcd:0C}qoAA@Fofcd:RC}qoAA@Fofcd:yC}qoAA@Fofcd:|C}qoAA@Fofcd:|C}qoAA@Fofcd:0C}qoAA@Fofcd:WC}qoAA@Fofcd:qC}qoAA@Fofcd:C}qoAA@Fofcd:uC}qoAA@Fofcd:C}qoAA@Fofcd:\n",
            "====================================================================================================\n",
            "\n",
            "Selecione a opção:\n",
            "\n",
            "1. Codificar mensagem\n",
            "2. Decodificar mensagem\n",
            "3. Sair\n",
            "\n",
            "Digite o número da opção desejada: Se você não pode fazer algo bem, pelo menos faça que tenha uma boa aparência. Bill Gates\n",
            "\n",
            "XXXXXXXXXXXXXXXXXXXXXXXXXXXXXXXXXX Opção inválida. Tente novamente XXXXXXXXXXXXXXXXXXXXXXXXXXXXXXXXXX\n",
            "\n",
            "====================================================================================================\n",
            "\n",
            "Selecione a opção:\n",
            "\n",
            "1. Codificar mensagem\n",
            "2. Decodificar mensagem\n",
            "3. Sair\n",
            "\n",
            "Digite o número da opção desejada: 1\n",
            "\n",
            "Digite a mensagem a ser codificada: Se você não pode fazer algo bem, pelo menos faça que tenha uma boa aparência. Bill Gates\n",
            "\n",
            "Digite a chave secreta: 4turma_1106_VST*\n",
            "\n",
            "Mensagem codificada: cD}qoAA@Fofcd:uD}qoAA@Fofcd:0D}qoAA@Fofcd:D}qoAA@Fofcd:D}qoAA@Fofcd:sD}qoAA@Fofcd:úD}qoAA@Fofcd:0D}qoAA@Fofcd:~D}qoAA@Fofcd:óD}qoAA@Fofcd:D}qoAA@Fofcd:0D}qoAA@Fofcd:D}qoAA@Fofcd:D}qoAA@Fofcd:tD}qoAA@Fofcd:uD}qoAA@Fofcd:0D}qoAA@Fofcd:vD}qoAA@Fofcd:qD}qoAA@Fofcd:D}qoAA@Fofcd:uD}qoAA@Fofcd:D}qoAA@Fofcd:0D}qoAA@Fofcd:qD}qoAA@Fofcd:|D}qoAA@Fofcd:wD}qoAA@Fofcd:D}qoAA@Fofcd:0D}qoAA@Fofcd:rD}qoAA@Fofcd:uD}qoAA@Fofcd:}D}qoAA@Fofcd:<D}qoAA@Fofcd:0D}qoAA@Fofcd:D}qoAA@Fofcd:uD}qoAA@Fofcd:|D}qoAA@Fofcd:D}qoAA@Fofcd:0D}qoAA@Fofcd:}D}qoAA@Fofcd:uD}qoAA@Fofcd:~D}qoAA@Fofcd:D}qoAA@Fofcd:D}qoAA@Fofcd:0D}qoAA@Fofcd:vD}qoAA@Fofcd:qD}qoAA@Fofcd:÷D}qoAA@Fofcd:qD}qoAA@Fofcd:0D}qoAA@Fofcd:D}qoAA@Fofcd:D}qoAA@Fofcd:uD}qoAA@Fofcd:0D}qoAA@Fofcd:D}qoAA@Fofcd:uD}qoAA@Fofcd:~D}qoAA@Fofcd:xD}qoAA@Fofcd:qD}qoAA@Fofcd:0D}qoAA@Fofcd:D}qoAA@Fofcd:}D}qoAA@Fofcd:qD}qoAA@Fofcd:0D}qoAA@Fofcd:rD}qoAA@Fofcd:D}qoAA@Fofcd:qD}qoAA@Fofcd:0D}qoAA@Fofcd:qD}qoAA@Fofcd:D}qoAA@Fofcd:qD}qoAA@Fofcd:D}qoAA@Fofcd:úD}qoAA@Fofcd:~D}qoAA@Fofcd:sD}qoAA@Fofcd:yD}qoAA@Fofcd:qD}qoAA@Fofcd:>D}qoAA@Fofcd:0D}qoAA@Fofcd:RD}qoAA@Fofcd:yD}qoAA@Fofcd:|D}qoAA@Fofcd:|D}qoAA@Fofcd:0D}qoAA@Fofcd:WD}qoAA@Fofcd:qD}qoAA@Fofcd:D}qoAA@Fofcd:uD}qoAA@Fofcd:D}qoAA@Fofcd:\n",
            "====================================================================================================\n",
            "\n",
            "Selecione a opção:\n",
            "\n",
            "1. Codificar mensagem\n",
            "2. Decodificar mensagem\n",
            "3. Sair\n",
            "\n",
            "Digite o número da opção desejada: 2\n",
            "\n",
            "Digite a mensagem a ser decodificada: cD}qoAA@Fofcd:uD}qoAA@Fofcd:0D}qoAA@Fofcd:D}qoAA@Fofcd:D}qoAA@Fofcd:sD}qoAA@Fofcd:úD}qoAA@Fofcd:0D}qoAA@Fofcd:~D}qoAA@Fofcd:óD}qoAA@Fofcd:D}qoAA@Fofcd:0D}qoAA@Fofcd:D}qoAA@Fofcd:D}qoAA@Fofcd:tD}qoAA@Fofcd:uD}qoAA@Fofcd:0D}qoAA@Fofcd:vD}qoAA@Fofcd:qD}qoAA@Fofcd:D}qoAA@Fofcd:uD}qoAA@Fofcd:D}qoAA@Fofcd:0D}qoAA@Fofcd:qD}qoAA@Fofcd:|D}qoAA@Fofcd:wD}qoAA@Fofcd:D}qoAA@Fofcd:0D}qoAA@Fofcd:rD}qoAA@Fofcd:uD}qoAA@Fofcd:}D}qoAA@Fofcd:<D}qoAA@Fofcd:0D}qoAA@Fofcd:D}qoAA@Fofcd:uD}qoAA@Fofcd:|D}qoAA@Fofcd:D}qoAA@Fofcd:0D}qoAA@Fofcd:}D}qoAA@Fofcd:uD}qoAA@Fofcd:~D}qoAA@Fofcd:D}qoAA@Fofcd:D}qoAA@Fofcd:0D}qoAA@Fofcd:vD}qoAA@Fofcd:qD}qoAA@Fofcd:÷D}qoAA@Fofcd:qD}qoAA@Fofcd:0D}qoAA@Fofcd:D}qoAA@Fofcd:D}qoAA@Fofcd:uD}qoAA@Fofcd:0D}qoAA@Fofcd:D}qoAA@Fofcd:uD}qoAA@Fofcd:~D}qoAA@Fofcd:xD}qoAA@Fofcd:qD}qoAA@Fofcd:0D}qoAA@Fofcd:D}qoAA@Fofcd:}D}qoAA@Fofcd:qD}qoAA@Fofcd:0D}qoAA@Fofcd:rD}qoAA@Fofcd:D}qoAA@Fofcd:qD}qoAA@Fofcd:0D}qoAA@Fofcd:qD}qoAA@Fofcd:D}qoAA@Fofcd:qD}qoAA@Fofcd:D}qoAA@Fofcd:úD}qoAA@Fofcd:~D}qoAA@Fofcd:sD}qoAA@Fofcd:yD}qoAA@Fofcd:qD}qoAA@Fofcd:>D}qoAA@Fofcd:0D}qoAA@Fofcd:RD}qoAA@Fofcd:yD}qoAA@Fofcd:|D}qoAA@Fofcd:|D}qoAA@Fofcd:0D}qoAA@Fofcd:WD}qoAA@Fofcd:qD}qoAA@Fofcd:D}qoAA@Fofcd:uD}qoAA@Fofcd:D}qoAA@Fofcd:\n",
            "\n",
            "Digite a chave secreta: 4turma_1106_VST*\n",
            "\n",
            "Mensagem decodificada: Se você não pode fazer algo bem, pelo menos faça que tenha uma boa aparência. Bill Gates\n",
            "====================================================================================================\n",
            "\n",
            "Selecione a opção:\n",
            "\n",
            "1. Codificar mensagem\n",
            "2. Decodificar mensagem\n",
            "3. Sair\n",
            "\n",
            "Digite o número da opção desejada: 2\n",
            "\n",
            "Digite a mensagem a ser decodificada: ÙC}qoAA@Fofcd:0C}qoAA@Fofcd:}C}qoAA@Fofcd:qC}qoAA@Fofcd:yC}qoAA@Fofcd:C}qoAA@Fofcd:0C}qoAA@Fofcd:vC}qoAA@Fofcd:ñC}qoAA@Fofcd:sC}qoAA@Fofcd:yC}qoAA@Fofcd:|C}qoAA@Fofcd:0C}qoAA@Fofcd:C}qoAA@Fofcd:uC}qoAA@Fofcd:C}qoAA@Fofcd:0C}qoAA@Fofcd:C}qoAA@Fofcd:0C}qoAA@Fofcd:C}qoAA@Fofcd:C}qoAA@Fofcd:yC}qoAA@Fofcd:}C}qoAA@Fofcd:uC}qoAA@Fofcd:yC}qoAA@Fofcd:C}qoAA@Fofcd:C}qoAA@Fofcd:<C}qoAA@Fofcd:0C}qoAA@Fofcd:tC}qoAA@Fofcd:C}qoAA@Fofcd:0C}qoAA@Fofcd:C}qoAA@Fofcd:C}qoAA@Fofcd:uC}qoAA@Fofcd:0C}qoAA@Fofcd:sC}qoAA@Fofcd:C}qoAA@Fofcd:~C}qoAA@Fofcd:C}qoAA@Fofcd:yC}qoAA@Fofcd:~C}qoAA@Fofcd:C}qoAA@Fofcd:qC}qoAA@Fofcd:C}qoAA@Fofcd:0C}qoAA@Fofcd:qC}qoAA@Fofcd:0C}qoAA@Fofcd:C}qoAA@Fofcd:uC}qoAA@Fofcd:C}qoAA@Fofcd:0C}qoAA@Fofcd:C}qoAA@Fofcd:0C}qoAA@Fofcd:C}qoAA@Fofcd:C}qoAA@Fofcd:yC}qoAA@Fofcd:}C}qoAA@Fofcd:uC}qoAA@Fofcd:yC}qoAA@Fofcd:C}qoAA@Fofcd:C}qoAA@Fofcd:>C}qoAA@Fofcd:0C}qoAA@Fofcd:RC}qoAA@Fofcd:yC}qoAA@Fofcd:|C}qoAA@Fofcd:|C}qoAA@Fofcd:0C}qoAA@Fofcd:WC}qoAA@Fofcd:qC}qoAA@Fofcd:C}qoAA@Fofcd:uC}qoAA@Fofcd:C}qoAA@Fofcd:\n",
            "\n",
            "Digite a chave secreta: 3turma_1106_VST*\n",
            "\n",
            "Mensagem decodificada: É mais fácil ser o primeiro, do que continuar a ser o primeiro. Bill Gates\n",
            "====================================================================================================\n",
            "\n",
            "Selecione a opção:\n",
            "\n",
            "1. Codificar mensagem\n",
            "2. Decodificar mensagem\n",
            "3. Sair\n",
            "\n",
            "Digite o número da opção desejada: _B}qoAA@Fofcd:B}qoAA@Fofcd:0B}qoAA@Fofcd:|B}qoAA@Fofcd:ýB}qoAA@Fofcd:tB}qoAA@Fofcd:uB}qoAA@Fofcd:B}qoAA@Fofcd:uB}qoAA@Fofcd:B}qoAA@Fofcd:0B}qoAA@Fofcd:tB}qoAA@Fofcd:B}qoAA@Fofcd:0B}qoAA@Fofcd:vB}qoAA@Fofcd:B}qoAA@Fofcd:B}qoAA@Fofcd:B}qoAA@Fofcd:B}qoAA@Fofcd:B}qoAA@Fofcd:0B}qoAA@Fofcd:B}qoAA@Fofcd:óB}qoAA@Fofcd:B}qoAA@Fofcd:0B}qoAA@Fofcd:B}qoAA@Fofcd:B}qoAA@Fofcd:0B}qoAA@Fofcd:B}qoAA@Fofcd:B}qoAA@Fofcd:uB}qoAA@Fofcd:0B}qoAA@Fofcd:uB}qoAA@Fofcd:}B}qoAA@Fofcd:B}qoAA@Fofcd:B}qoAA@Fofcd:tB}qoAA@Fofcd:uB}qoAA@Fofcd:B}qoAA@Fofcd:qB}qoAA@Fofcd:}B}qoAA@Fofcd:0B}qoAA@Fofcd:B}qoAA@Fofcd:B}qoAA@Fofcd:0B}qoAA@Fofcd:B}qoAA@Fofcd:B}qoAA@Fofcd:B}qoAA@Fofcd:B}qoAA@Fofcd:B}qoAA@Fofcd:B}qoAA@Fofcd:>B}qoAA@Fofcd:0B}qoAA@Fofcd:RB}qoAA@Fofcd:yB}qoAA@Fofcd:|B}qoAA@Fofcd:|B}qoAA@Fofcd:0B}qoAA@Fofcd:WB}qoAA@Fofcd:qB}qoAA@Fofcd:B}qoAA@Fofcd:uB}qoAA@Fofcd:B}qoAA@Fofcd:\n",
            "\n",
            "XXXXXXXXXXXXXXXXXXXXXXXXXXXXXXXXXX Opção inválida. Tente novamente XXXXXXXXXXXXXXXXXXXXXXXXXXXXXXXXXX\n",
            "\n",
            "====================================================================================================\n",
            "\n",
            "Selecione a opção:\n",
            "\n",
            "1. Codificar mensagem\n",
            "2. Decodificar mensagem\n",
            "3. Sair\n",
            "\n",
            "Digite o número da opção desejada: 1\n",
            "\n",
            "Digite a mensagem a ser codificada: 2\n",
            "\n",
            "Digite a chave secreta: 2\n",
            "\n",
            "Mensagem codificada: 33\n",
            "====================================================================================================\n",
            "\n",
            "Selecione a opção:\n",
            "\n",
            "1. Codificar mensagem\n",
            "2. Decodificar mensagem\n",
            "3. Sair\n",
            "\n",
            "Digite o número da opção desejada: 2\n",
            "\n",
            "Digite a mensagem a ser decodificada: 2\n",
            "\n",
            "Digite a chave secreta: 2\n",
            "\n",
            "Mensagem decodificada: Mensagem codificada não encontrada, verifique a mensagem que deseja decodificar e tente novamente!\n",
            "====================================================================================================\n",
            "\n",
            "Selecione a opção:\n",
            "\n",
            "1. Codificar mensagem\n",
            "2. Decodificar mensagem\n",
            "3. Sair\n",
            "\n",
            "Digite o número da opção desejada: 2\n",
            "\n",
            "Digite a mensagem a ser decodificada: _B}qoAA@Fofcd:B}qoAA@Fofcd:0B}qoAA@Fofcd:|B}qoAA@Fofcd:ýB}qoAA@Fofcd:tB}qoAA@Fofcd:uB}qoAA@Fofcd:B}qoAA@Fofcd:uB}qoAA@Fofcd:B}qoAA@Fofcd:0B}qoAA@Fofcd:tB}qoAA@Fofcd:B}qoAA@Fofcd:0B}qoAA@Fofcd:vB}qoAA@Fofcd:B}qoAA@Fofcd:B}qoAA@Fofcd:B}qoAA@Fofcd:B}qoAA@Fofcd:B}qoAA@Fofcd:0B}qoAA@Fofcd:B}qoAA@Fofcd:óB}qoAA@Fofcd:B}qoAA@Fofcd:0B}qoAA@Fofcd:B}qoAA@Fofcd:B}qoAA@Fofcd:0B}qoAA@Fofcd:B}qoAA@Fofcd:B}qoAA@Fofcd:uB}qoAA@Fofcd:0B}qoAA@Fofcd:uB}qoAA@Fofcd:}B}qoAA@Fofcd:B}qoAA@Fofcd:B}qoAA@Fofcd:tB}qoAA@Fofcd:uB}qoAA@Fofcd:B}qoAA@Fofcd:qB}qoAA@Fofcd:}B}qoAA@Fofcd:0B}qoAA@Fofcd:B}qoAA@Fofcd:B}qoAA@Fofcd:0B}qoAA@Fofcd:B}qoAA@Fofcd:B}qoAA@Fofcd:B}qoAA@Fofcd:B}qoAA@Fofcd:B}qoAA@Fofcd:B}qoAA@Fofcd:>B}qoAA@Fofcd:0B}qoAA@Fofcd:RB}qoAA@Fofcd:yB}qoAA@Fofcd:|B}qoAA@Fofcd:|B}qoAA@Fofcd:0B}qoAA@Fofcd:WB}qoAA@Fofcd:qB}qoAA@Fofcd:B}qoAA@Fofcd:uB}qoAA@Fofcd:B}qoAA@Fofcd:\n",
            "\n",
            "Digite a chave secreta: 2turma_1106_VST*\n",
            "\n",
            "Mensagem decodificada: Os líderes do futuro são os que empoderam os outros. Bill Gates\n",
            "====================================================================================================\n",
            "\n",
            "Selecione a opção:\n",
            "\n",
            "1. Codificar mensagem\n",
            "2. Decodificar mensagem\n",
            "3. Sair\n",
            "\n",
            "Digite o número da opção desejada: 2\n",
            "\n",
            "Digite a mensagem a ser decodificada: ÙA}qoAA@Fofcd:0A}qoAA@Fofcd:wA}qoAA@Fofcd:uA}qoAA@Fofcd:~A}qoAA@Fofcd:yA}qoAA@Fofcd:qA}qoAA@Fofcd:|A}qoAA@Fofcd:0A}qoAA@Fofcd:vA}qoAA@Fofcd:uA}qoAA@Fofcd:A}qoAA@Fofcd:A}qoAA@Fofcd:uA}qoAA@Fofcd:zA}qoAA@Fofcd:qA}qoAA@Fofcd:A}qoAA@Fofcd:0A}qoAA@Fofcd:A}qoAA@Fofcd:0A}qoAA@Fofcd:A}qoAA@Fofcd:A}qoAA@Fofcd:sA}qoAA@Fofcd:uA}qoAA@Fofcd:A}qoAA@Fofcd:A}qoAA@Fofcd:A}qoAA@Fofcd:<A}qoAA@Fofcd:0A}qoAA@Fofcd:}A}qoAA@Fofcd:qA}qoAA@Fofcd:A}qoAA@Fofcd:0A}qoAA@Fofcd:ùA}qoAA@Fofcd:0A}qoAA@Fofcd:}A}qoAA@Fofcd:qA}qoAA@Fofcd:yA}qoAA@Fofcd:A}qoAA@Fofcd:0A}qoAA@Fofcd:yA}qoAA@Fofcd:}A}qoAA@Fofcd:A}qoAA@Fofcd:A}qoAA@Fofcd:A}qoAA@Fofcd:A}qoAA@Fofcd:qA}qoAA@Fofcd:~A}qoAA@Fofcd:A}qoAA@Fofcd:uA}qoAA@Fofcd:0A}qoAA@Fofcd:qA}qoAA@Fofcd:A}qoAA@Fofcd:A}qoAA@Fofcd:uA}qoAA@Fofcd:~A}qoAA@Fofcd:tA}qoAA@Fofcd:uA}qoAA@Fofcd:A}qoAA@Fofcd:0A}qoAA@Fofcd:sA}qoAA@Fofcd:A}qoAA@Fofcd:}A}qoAA@Fofcd:0A}qoAA@Fofcd:qA}qoAA@Fofcd:A}qoAA@Fofcd:0A}qoAA@Fofcd:|A}qoAA@Fofcd:yA}qoAA@Fofcd:÷A}qoAA@Fofcd:%A}qoAA@Fofcd:uA}qoAA@Fofcd:A}qoAA@Fofcd:0A}qoAA@Fofcd:tA}qoAA@Fofcd:A}qoAA@Fofcd:0A}qoAA@Fofcd:vA}qoAA@Fofcd:A}qoAA@Fofcd:qA}qoAA@Fofcd:sA}qoAA@Fofcd:qA}qoAA@Fofcd:A}qoAA@Fofcd:A}qoAA@Fofcd:A}qoAA@Fofcd:>A}qoAA@Fofcd:0A}qoAA@Fofcd:RA}qoAA@Fofcd:yA}qoAA@Fofcd:|A}qoAA@Fofcd:|A}qoAA@Fofcd:0A}qoAA@Fofcd:WA}qoAA@Fofcd:qA}qoAA@Fofcd:A}qoAA@Fofcd:uA}qoAA@Fofcd:A}qoAA@Fofcd:\n",
            "\n",
            "Digite a chave secreta: 1turma_1106_VST*\n",
            "\n",
            "Mensagem decodificada: É genial festejar o sucesso, mas é mais importante aprender com as lições do fracasso. Bill Gates\n",
            "====================================================================================================\n",
            "\n",
            "Selecione a opção:\n",
            "\n",
            "1. Codificar mensagem\n",
            "2. Decodificar mensagem\n",
            "3. Sair\n",
            "\n",
            "Digite o número da opção desejada: 3\n",
            "\n",
            "Programa encerrado.\n"
          ]
        }
      ],
      "source": [
        "#   O programa começa definindo duas listas vazias, que servem para criar um banco\n",
        "# de dados com as mensagens e chaves enquanto o programa roda. Nesta versão, quando\n",
        "# o programa para, as mensagens se perdem. Isso serve para demonstrar que se a\n",
        "# mensagem e a chave não estiverem no banco, retornará uma mensagem de erro.\n",
        "\n",
        "mensagens_codificadas = []\n",
        "chaves = []\n",
        "\n",
        "# O próximo trecho cria uma função chamada codificar que recebe dois parâmetros, mensagem e chave, respectivamente.\n",
        "\n",
        "# Função para codificar a mensagem\n",
        "def codificar(mensagem, chave):\n",
        "\n",
        "# -------------------------------------------------------------------------\n",
        "# Primeiro, a função transforma a variável mensagem em uma lista e cria uma\n",
        "# variável string vazia que servirá para guardar os caracteres codificados.\n",
        "# -------------------------------------------------------------------------\n",
        "\n",
        "    lista_mensagem = list(mensagem)\n",
        "    lista_caractere_codificado = ''\n",
        "\n",
        "# -------------------------------------------------------------------------\n",
        "#   A próxima trecho contém um loop for no tamanho da lista de mensagens,\n",
        "# que faz o seguinte:\n",
        "#   A variável codigo_caractere recebe o valor numérico da posição do caractere\n",
        "# na tabela ASCII, e para isso, utiliza-se a função ord().\n",
        "\n",
        "#   A variável codigo_caractere_codificado recebe valores numéricos de caracteres\n",
        "# seguindo esta lógica: o valor numérico do caractere é subtraído do valor do caractere 'espaço' (ord('espaço') = 32,\n",
        "# usado como ponto de referência zero para o deslocamento). Em seguida, o tamanho da chave é somado a essa diferença.\n",
        "# O resultado é calculado com o operador de módulo (% 224) para garantir que o\n",
        "# deslocamento permaneça dentro do intervalo desejado entre 32 e 224,\n",
        "# caso a chave seja maior que o módulo. Esse intervalo abrange caracteres alfabéticos (maiúsculos e minúsculos),\n",
        "# caracteres acentuados e outros caracteres especiais da Tabela ASCII.\n",
        "# Para finalizar, o valor numérico do espaço é adicionado novamente para obter a posição do caractere codificado.\n",
        "#   A variável lista_caractere_codificado guarda os resultados codificados já em\n",
        "# forma de caractere. Isso é feito com a função chr(), que com base em um valor\n",
        "# numérico, retorna o caractere correspondente na Tabela ASCII.\n",
        "# --------------------------------------------------------------------------\n",
        "\n",
        "    for caractere in range(len(lista_mensagem)):\n",
        "      codigo_caractere = ord(lista_mensagem[caractere])\n",
        "      codigo_caractere_codificado = (codigo_caractere - ord(' ') + len(chave)) % 224 + ord(' ')\n",
        "      lista_caractere_codificado += chr(codigo_caractere_codificado)\n",
        "\n",
        "# --------------------------------------------------------------------------\n",
        "#   Agora começa a criação da variável lista_chave que recebe a string da chave e a\n",
        "# transforma em uma lista. Também é criada uma variável lista_chave_codificado que\n",
        "# recebe uma string vazia e que posteriormente receberá os caracteres da chave codificados.\n",
        "# --------------------------------------------------------------------------\n",
        "\n",
        "    lista_chave = list(chave)\n",
        "    lista_chave_codificado = ''\n",
        "\n",
        "# --------------------------------------------------------------------------\n",
        "#   O loop for no tamanho da lista_chave segue a mesma lógica do loop feito para a mensagem.\n",
        "# --------------------------------------------------------------------------\n",
        "\n",
        "    for caractere in range(len(lista_chave)):\n",
        "      codigo_caractere = ord(lista_chave[caractere])\n",
        "      codigo_caractere_codificado = (codigo_caractere - ord(' ') + len(chave)) % 224 + ord(' ')\n",
        "      lista_chave_codificado += chr(codigo_caractere_codificado)\n",
        "\n",
        "# -------------------------------------------------------------------------\n",
        "#   Neste trecho, O loop for no tamanho da lista_mensagem é usado para inserir a chave codificada na mensagem e é guardada\n",
        "# na variável lista_mensagem. A variável str_mensagem recebe a mensagem codificada\n",
        "# transformada de uma lista de strings em uma única string, para isso utiliza-se o método join().\n",
        "# -------------------------------------------------------------------------\n",
        "\n",
        "    for i in range(len(lista_mensagem)):\n",
        "      lista_mensagem[i] = lista_caractere_codificado[i] + lista_chave_codificado\n",
        "    str_mensagem = ('').join(lista_mensagem)\n",
        "\n",
        "# -------------------------------------------------------------------------\n",
        "#   Neste trecho, respectivamente, mensagem e chave codificadas, são guardadas nas variáveis\n",
        "# mensagens_codificadas e chaves, para isso, utiliza-se o método .append().\n",
        "# Aqui entende-se como a criação de um \"banco\", usando listas para isso.\n",
        "# -------------------------------------------------------------------------\n",
        "\n",
        "    mensagens_codificadas.append(str_mensagem)\n",
        "    chaves.append(chave)\n",
        "\n",
        "    return str_mensagem\n",
        "\n",
        "# -------------------------------------------------------------------------\n",
        "# Fim da primeira função codificar.\n",
        "# -------------------------------------------------------------------------\n",
        "\n",
        "# Função decodificar.\n",
        "\n",
        "# Segue a mesma lógica da função codificar com algumas pequenas diferenças.\n",
        "\n",
        "def decodificar(mensagem, chave):\n",
        "\n",
        "# -------------------------------------------------------------------------\n",
        "# Neste Trecho é feita a verificação se as mensagens e chaves estão no \"banco\",\n",
        "# e se caso um dos parâmetros, ou ambus, não existirem no \"banco\", retorna mensagem de erro.\n",
        "# -------------------------------------------------------------------------\n",
        "\n",
        "  if mensagem not in mensagens_codificadas:\n",
        "    return \"Mensagem codificada não encontrada, verifique a mensagem que deseja decodificar e tente novamente!\"\n",
        "\n",
        "  index = mensagens_codificadas.index(mensagem)\n",
        "  if chave != chaves[index]:\n",
        "        return \"Chave incorreta! A mensagem não pode ser decodificada.\"\n",
        "\n",
        "#--------------------------------------------------------------------------\n",
        "\n",
        "  lista_mensagem = list(mensagem)\n",
        "  lista_chave = list(chave)\n",
        "  lista_caractere_codificado = ''\n",
        "\n",
        "# -------------------------------------------------------------------------\n",
        "#   A principal diferença é que, como a mensagem codificada é uma única\n",
        "# string que contém mensagem e chave concatenadas, a decodificação é realizada em um único loop for.\n",
        "\n",
        "#   No trecho que desloca o caractere:\n",
        "#\n",
        "# -->>codigo_caractere_codificado = (codigo_caractere - ord(' ') + len(chave)) % 224 + ord(' ')<<--\n",
        "#\n",
        "#   A primeira operação soma é substituída pela operação de subtração. Isso ocorre porque,\n",
        "# enquanto na codificação o caractere é deslocado para a frente, na decodificação\n",
        "# ele é deslocado para trás. O restante do processo é semelhante,\n",
        "# incluindo a aplicação do módulo % 224 e a adição do valor ord(' ') para obter\n",
        "# o caractere decodificado.\n",
        "# -------------------------------------------------------------------------\n",
        "\n",
        "  for caractere in range(len(lista_mensagem)):\n",
        "    codigo_caractere = ord(lista_mensagem[caractere])\n",
        "    codigo_caractere_codificado = (codigo_caractere - ord(' ') - len(chave)) % 224 + ord(' ')\n",
        "    lista_caractere_codificado += chr(codigo_caractere_codificado)\n",
        "\n",
        "  # -------------------------------------------------------------------------\n",
        "  # Em seguida, há a concatenação da lista de strings em uma única string e\n",
        "  # a remoção da chave de dentro da mensagem, utilizando a função .replace()\n",
        "  # -------------------------------------------------------------------------\n",
        "\n",
        "  mensagem = ('').join(lista_caractere_codificado)\n",
        "  mensagem_decodificada = mensagem.replace(chave, '')\n",
        "  return mensagem_decodificada\n",
        "\n",
        "# -------------------------------------------------------------------------\n",
        "# FIm da segunda função (decodificar)\n",
        "# -------------------------------------------------------------------------\n",
        "\n",
        "# -------------------------------------------------------------------------\n",
        "# Inputs do Usuário:\n",
        "# -------------------------------------------------------------------------\n",
        "\n",
        "#   O programa inicia com um menu.\n",
        "#   Um loop while é utilizado para mostrar o menu. O programa roda\n",
        "# até que o usuário escolha a opção \"3\" para encerrar.\n",
        "\n",
        "#   Se a escolha for \"1\" para codificar, o usuário é solicitado a inserir a\n",
        "# mensagem e, em seguida, a chave. A função codificar é utilizada para cifra a mensagem.\n",
        "\n",
        "#   Se a escolha for \"2\" para decodificar, o usuário insere a mensagem codificada e,\n",
        "# em seguida, a chave, que não precisa estar codificada. A função decodificar\n",
        "# é utilizada, e o resultado é a mensagem conforme foi originalmente escrita.\n",
        "\n",
        "while True:\n",
        "    print('='*100)\n",
        "    print(\"\\nSelecione a opção:\\n\")\n",
        "    print(\"1. Codificar mensagem\")\n",
        "    print(\"2. Decodificar mensagem\")\n",
        "    print(\"3. Sair\")\n",
        "    opcao = input(\"\\nDigite o número da opção desejada: \")\n",
        "\n",
        "    if opcao == \"1\":\n",
        "        mensagem = input(\"\\nDigite a mensagem a ser codificada: \")\n",
        "        chave = input(\"\\nDigite a chave secreta: \")\n",
        "        print(\"\\nMensagem codificada:\", codificar(mensagem, chave))\n",
        "    elif opcao == \"2\":\n",
        "        mensagem = input(\"\\nDigite a mensagem a ser decodificada: \")\n",
        "        chave = input(\"\\nDigite a chave secreta: \")\n",
        "        print(\"\\nMensagem decodificada:\", decodificar(mensagem, chave))\n",
        "    elif opcao == \"3\":\n",
        "        break\n",
        "    else:\n",
        "\n",
        "        print(f'\\n{\"X\"*34} Opção inválida. Tente novamente {\"X\"*34}\\n')\n",
        "\n",
        "print('\\nPrograma encerrado.')\n",
        "\n",
        "# -------------------------------------------------------------------------\n",
        "# Informações adicionais.\n",
        "# -------------------------------------------------------------------------\n",
        "# ord() retorna o valor numérico correspondente à posição de um caractere na tabela ASCII. Exemplo: numero_caractere = ord('A') retorna 65.\n",
        "# chr() retorna o caractere na posição equivalente ao número. Exemplo: caractere_numero = chr(65) retorna 'A'.\n",
        "#\n",
        "# https://pythoniluminado.netlify.app/strings\n",
        "# -------------------------------------------------------------------------\n",
        "#\n",
        "# -------------------------------------------------------------------------\n",
        "# * metodo join() usado na concatenação de strings.\n",
        "#\n",
        "# list1 = ['1','2','3','4']\n",
        "#\n",
        "# s = \"-\"\n",
        "# s = s.join(list1)\n",
        "# print(s)\n",
        "#\n",
        "# type(s)\n",
        "#\n",
        "# Resultada:\n",
        "# 1-2-3-4\n",
        "# str\n",
        "# https://acervolima.com/funcao-join-em-python/\n",
        "# -------------------------------------------------------------------------\n",
        "#\n",
        "# -------------------------------------------------------------------------\n",
        "# Método replace()\n",
        "# Substitui substring por outra.\n",
        "#\n",
        "# Em Python, usamos o método replace, que recebe dois argumentos. Seja texto a string:\n",
        "# texto.replace(nova,antiga)\n",
        "#\n",
        "# Ou seja, toda vez que achar a substring antiga ele vai colocar a substring nova, na string texto.\n",
        "# Esse método retorna uma nova string, com o texto substituto.\n",
        "#\n",
        "# O código, bem simples de ser entendido, é:\n",
        "#\n",
        "# texto = input(\"O que acha do curso: \" )\n",
        "# texto=texto.replace('Pyton','Python')\n",
        "# texto=texto.replace('eh','é')\n",
        "# print(\"Texto corrigido    :\",texto)\n",
        "#\n",
        "#resultado:\n",
        "# O que acha do curso: Pyton eh legal\n",
        "# Texto corrigido    : Python é legal\n",
        "#\n",
        "# https://www.pythonprogressivo.net/2018/11/Localizar-Substituir-substring-Strings.html\n",
        "# -------------------------------------------------------------------------\n",
        "#\n",
        "# -------------------------------------------------------------------------\n",
        "#   Link vídeo sobre Aritmética Modular \"COMO FUNCIONA A ARITMÉTICA MODULAR?\",\n",
        "# de autoria do canal Pitagóricos e apresentado por Giovana Cunha.\n",
        "# O vídeo serviu como base de conhecimento para desenvolver o código.\n",
        "# https://www.youtube.com/watch?v=huD7-Fe-Z_A&t=512s\n",
        "# -------------------------------------------------------------------------\n"
      ]
    }
  ],
  "metadata": {
    "colab": {
      "provenance": []
    },
    "kernelspec": {
      "display_name": "Python 3 (ipykernel)",
      "language": "python",
      "name": "python3"
    },
    "language_info": {
      "codemirror_mode": {
        "name": "ipython",
        "version": 3
      },
      "file_extension": ".py",
      "mimetype": "text/x-python",
      "name": "python",
      "nbconvert_exporter": "python",
      "pygments_lexer": "ipython3",
      "version": "3.9.6"
    }
  },
  "nbformat": 4,
  "nbformat_minor": 5
}
