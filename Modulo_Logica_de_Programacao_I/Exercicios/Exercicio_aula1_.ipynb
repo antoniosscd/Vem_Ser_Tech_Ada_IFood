{
  "cells": [
    {
      "cell_type": "code",
      "execution_count": 1,
      "id": "f8f4ba21",
      "metadata": {
        "colab": {
          "base_uri": "https://localhost:8080/"
        },
        "id": "f8f4ba21",
        "outputId": "63716218-7626-429a-9f2a-167d7d299a14"
      },
      "outputs": [
        {
          "name": "stdout",
          "output_type": "stream",
          "text": [
            "Olá, mundo!\n"
          ]
        }
      ],
      "source": [
        "# 1. Faça um Programa que mostre a mensagem \"Olá, mundo!\" na tela.\n",
        "variavel = \"Olá, mundo!\"\n",
        "\n",
        "print(variavel)\n"
      ]
    },
    {
      "cell_type": "code",
      "execution_count": 2,
      "id": "e4a18044",
      "metadata": {
        "colab": {
          "base_uri": "https://localhost:8080/"
        },
        "id": "e4a18044",
        "outputId": "6fc25419-2e6d-43e1-ced3-202d68d0d75e"
      },
      "outputs": [
        {
          "name": "stdout",
          "output_type": "stream",
          "text": [
            "Digite um numero: 2\n",
            "O número é 2\n"
          ]
        }
      ],
      "source": [
        "# 2. Faça um programa que peça um número e mostre a mensagem \"O número informado foi [número]\"\n",
        "num = input('Digite um numero: ')\n",
        "print(f'O número informado é {num}')"
      ]
    },
    {
      "cell_type": "code",
      "execution_count": 7,
      "id": "49b30fa2",
      "metadata": {
        "colab": {
          "base_uri": "https://localhost:8080/"
        },
        "id": "49b30fa2",
        "outputId": "22f0a38f-0ffe-4591-855a-46589ef52182"
      },
      "outputs": [
        {
          "name": "stdout",
          "output_type": "stream",
          "text": [
            "Digite um numero: 2\n",
            "O número informado é 2\n",
            "Antes de converter\n",
            "<class 'str'>\n",
            "Depois de converter float\n",
            "<class 'float'>\n",
            "Depois de converter int\n",
            "<class 'int'>\n"
          ]
        }
      ],
      "source": [
        "# 3. Faça um programa que peça um número para o usuário (string), converta-o para float e depois imprima-o na tela. Você consegue fazer a mesma coisa, porém convertendo para int?\n",
        "#Convertendo para float\n",
        "num = input('Digite um numero: ')\n",
        "print(f'O número informado é {num}')\n",
        "print('Antes de converter')\n",
        "print(type(num))\n",
        "num = float(num)\n",
        "print('Depois de converter float')\n",
        "print(type(num))\n",
        "print('Depois de converter int')\n",
        "num = int(num)\n",
        "print(type(num))\n"
      ]
    },
    {
      "cell_type": "code",
      "execution_count": 9,
      "id": "ab764b94",
      "metadata": {
        "colab": {
          "base_uri": "https://localhost:8080/"
        },
        "id": "ab764b94",
        "outputId": "6efb3ae7-d3b7-4634-ee5b-647593e04e79"
      },
      "outputs": [
        {
          "name": "stdout",
          "output_type": "stream",
          "text": [
            "Digite um 1º numero : 2\n",
            "Digite um 2º numero : 4\n",
            "Soma = 6\n"
          ]
        }
      ],
      "source": [
        "# 4. Faça um programa que peça dois números e imprima a soma deles.\n",
        "num1 = int(input('Digite um 1º numero : '))\n",
        "num2 = int(input('Digite um 2º numero : '))\n",
        "\n",
        "soma = num1 + num2\n",
        "\n",
        "print(f'Soma = {soma}')\n"
      ]
    },
    {
      "cell_type": "code",
      "execution_count": 10,
      "id": "ade2592d",
      "metadata": {
        "colab": {
          "base_uri": "https://localhost:8080/"
        },
        "id": "ade2592d",
        "outputId": "7904aefc-6502-4131-f590-4d27c2bf8bc1"
      },
      "outputs": [
        {
          "name": "stdout",
          "output_type": "stream",
          "text": [
            "Digite as 4 notas do aluno: \n",
            "Digite a primeira nota: 5\n",
            "Digite a primeira nota: 5\n",
            "Digite a primeira nota: 5\n",
            "Digite a primeira nota: 5\n",
            "Média do aluno é = 5.0\n"
          ]
        }
      ],
      "source": [
        "# 5. Faça um programa que peça as 4 notas bimestrais de um aluno e mostre a média aritmética delas.\n",
        "\n",
        "print('Digite as 4 notas do aluno: ')\n",
        "\n",
        "soma = 0\n",
        "media = 0\n",
        "\n",
        "nota1 = float(input('Digite a primeira nota: '))\n",
        "nota2 = float(input('Digite a primeira nota: '))\n",
        "nota3 = float(input('Digite a primeira nota: '))\n",
        "nota4 = float(input('Digite a primeira nota: '))\n",
        "\n",
        "soma += nota1 + nota2 +nota3 + nota4 # Soma as notas.\n",
        "\n",
        "média = soma/4 # Cálculo da média aritimética.\n",
        "\n",
        "print('Média do aluno é =',média) # Mostra a média."
      ]
    },
    {
      "cell_type": "code",
      "execution_count": 12,
      "id": "74dbeafd",
      "metadata": {
        "colab": {
          "base_uri": "https://localhost:8080/"
        },
        "id": "74dbeafd",
        "outputId": "e2780730-e45c-4b11-8cbe-6300bd987268"
      },
      "outputs": [
        {
          "name": "stdout",
          "output_type": "stream",
          "text": [
            "Digite o tamnho em metros que deseja converter para centímetros: 100\n",
            "A tamanho em metros 100.0 convertido para centímetros é =  10000.0 centímetros\n"
          ]
        }
      ],
      "source": [
        "# 6. Faça um programa que converta um valor em metros para centímetros.\n",
        "\n",
        "conversor = 100\n",
        "centimetros = 0\n",
        "\n",
        "tamanho = float(input(\"Digite o tamnho em metros que deseja converter para centímetros: \"))\n",
        "\n",
        "centimetros = tamanho * conversor #Calcula a conversão de metros em centímetros.\n",
        "\n",
        "print('A tamanho em metros',tamanho,'convertido para centímetros é = ',centimetros,'centímetros')"
      ]
    },
    {
      "cell_type": "code",
      "execution_count": 15,
      "id": "a21b1da5",
      "metadata": {
        "colab": {
          "base_uri": "https://localhost:8080/"
        },
        "id": "a21b1da5",
        "outputId": "4d3ee487-f20f-4323-f415-242a03bf4d31"
      },
      "outputs": [
        {
          "name": "stdout",
          "output_type": "stream",
          "text": [
            "Digite a área do círculo: 5\n",
            "A área do cículo é = 78.5\n"
          ]
        }
      ],
      "source": [
        "# 7. Faça um programa que peça o raio de um círculo, calcule e mostre sua área. Obs: Formula da área de um círculo, A = 3.14*r²\n",
        "\n",
        "pi = 3.14\n",
        "area = 0\n",
        "\n",
        "raio_circulo = float(input('Digite a área do círculo: '))\n",
        "\n",
        "area += pi*(raio_circulo**2)# Cálculo da area do cículo.\n",
        "\n",
        "print('A área do cículo é =', area)\n"
      ]
    },
    {
      "cell_type": "code",
      "execution_count": 13,
      "id": "56d8a614",
      "metadata": {
        "colab": {
          "base_uri": "https://localhost:8080/"
        },
        "id": "56d8a614",
        "outputId": "7718cfc1-1f23-4659-c861-cba246007ab8"
      },
      "outputs": [
        {
          "name": "stdout",
          "output_type": "stream",
          "text": [
            "Informe o valor por hora trabalhada: 49.50\n",
            "Quantas horas voçê trabalhou no mês : 220\n",
            "Total a resceber : 10890.0\n"
          ]
        }
      ],
      "source": [
        "# 8. Faça um programa que pergunte quanto você ganha por hora e o número de horas trabalhadas no mês e depois, calcule e mostre o total do seu salário no referido mês.\n",
        "\n",
        "valor_hora = float(input(\"Informe o valor por hora trabalhada: \"))\n",
        "qtd_hora = float(input(\"Quantas horas voçê trabalhou no mês : \"))\n",
        "\n",
        "total_sal = valor_hora * qtd_hora #Calcula o valor a receber.\n",
        "\n",
        "print(f'Total a resceber : {total_sal}')#Mostra o valor a resceber.\n"
      ]
    },
    {
      "cell_type": "code",
      "execution_count": 14,
      "id": "46a33436",
      "metadata": {
        "colab": {
          "base_uri": "https://localhost:8080/"
        },
        "id": "46a33436",
        "outputId": "eff4a44f-fda5-49fa-a6e4-9ff287d47c50"
      },
      "outputs": [
        {
          "name": "stdout",
          "output_type": "stream",
          "text": [
            "Informe a temperatura na escala Fahrenheit: 32\n",
            "Temperatura informada em graus Celsius (°C) é igual a 0.0°C \n"
          ]
        }
      ],
      "source": [
        "# 9. Faça um programa que peça a temperatura em graus Fahrenheit (F), transforme e mostre a temperatura em graus Celsius (°C).\n",
        "# C = (5 * (F-32) / 9).\n",
        "temp = float(input(\"Informe a temperatura na escala Fahrenheit: \"))\n",
        "\n",
        "temp_convert = (5 * (temp-32) / 9) # Conversão em Celsius(°C).\n",
        "\n",
        "print(f'Temperatura informada em graus Celsius (°C) é igual a {temp_convert}°C ')#Imprime a temperatura na escala Celcius.\n"
      ]
    },
    {
      "cell_type": "code",
      "execution_count": 17,
      "id": "ff177d47",
      "metadata": {
        "colab": {
          "base_uri": "https://localhost:8080/"
        },
        "id": "ff177d47",
        "outputId": "5520b154-1c5e-4467-d7b6-b81e1088771e"
      },
      "outputs": [
        {
          "name": "stdout",
          "output_type": "stream",
          "text": [
            "Digite a temperatura em celsius: 0\n",
            "A temperatura digitada, em Fahrenheit, é 32.0\n"
          ]
        }
      ],
      "source": [
        "# Inverso\n",
        "celsius = float(input('Digite a temperatura em celsius: '))\n",
        "fahrenheit = celsius * 9 / 5 + 32\n",
        "print(\"A temperatura digitada, em Fahrenheit, é\", fahrenheit)"
      ]
    },
    {
      "cell_type": "code",
      "execution_count": 18,
      "id": "7efabcdf",
      "metadata": {
        "colab": {
          "base_uri": "https://localhost:8080/"
        },
        "id": "7efabcdf",
        "outputId": "e7a9945c-bc9d-41d0-d3b6-7e247a6ecfe2"
      },
      "outputs": [
        {
          "name": "stdout",
          "output_type": "stream",
          "text": [
            "Qual o dia?12\n",
            "Qual o mes?01\n",
            "Qual o ano?1981\n",
            "A data é 12 / 1 / 1981\n"
          ]
        }
      ],
      "source": [
        "# 10. Faça um programa que peça o dia, o mês e o ano para o usuário e imprima a data completa no formato dd/mm/aaaa.\n",
        "dia = int(input('Qual o dia?'))\n",
        "mes = int(input('Qual o mes?'))\n",
        "ano = int(input('Qual o ano?'))\n",
        "\n",
        "print('A data é', dia, '/', mes, '/', ano)\n"
      ]
    },
    {
      "cell_type": "code",
      "execution_count": 19,
      "id": "6e0fa030",
      "metadata": {
        "colab": {
          "base_uri": "https://localhost:8080/"
        },
        "id": "6e0fa030",
        "outputId": "a021241d-e044-4956-a1f8-51f8faddd7de"
      },
      "outputs": [
        {
          "name": "stdout",
          "output_type": "stream",
          "text": [
            "Digite um número inteiro: 2\n",
            "Digite outro número inteiro: 3\n",
            "Agora digite um número real: 5\n",
            "O produto do dobro do primeiro com metade do segundo: 6.0\n",
            "A soma do triplo do primeiro com o terceiro: 11.0\n",
            "O terceiro ao cubo 125.0\n"
          ]
        }
      ],
      "source": [
        "#11.Faça um programa que peça 2 números inteiros e um número real, calcule e mostre:\n",
        "\n",
        "int1 = int(input('Digite um número inteiro: '))\n",
        "int2 = int(input('Digite outro número inteiro: '))\n",
        "real1 = float(input('Agora digite um número real: '))\n",
        "\n",
        "# a) o produto do dobro do primeiro com metade do segundo.\n",
        "print('O produto do dobro do primeiro com metade do segundo:', 2*int1*int2/2)\n",
        "\n",
        "#b) a soma do triplo do primeiro com o terceiro.\n",
        "print('A soma do triplo do primeiro com o terceiro:', 3 * int1 + real1)\n",
        "\n",
        "#c) o terceiro elevado ao cubo.\n",
        "print('O terceiro ao cubo', real1**3)\n"
      ]
    },
    {
      "cell_type": "code",
      "execution_count": 1,
      "id": "1a1b6d28",
      "metadata": {
        "colab": {
          "base_uri": "https://localhost:8080/"
        },
        "id": "1a1b6d28",
        "outputId": "f3048caa-d535-44a1-9c30-0ccecc233d86"
      },
      "outputs": [
        {
          "name": "stdout",
          "output_type": "stream",
          "text": [
            "O seu imc é 0.0031020408163265306\n"
          ]
        }
      ],
      "source": [
        "# 12. Faça um programa que peça o peso e altura de uma pessoa e calcule seu IMC (Índice de Massa Corporal).\n",
        "peso = float(input('digite seu peso em kg:'))\n",
        "altura = float(input('digite sua altura em m:'))\n",
        "imc = peso/(altura*altura)\n",
        "print('O seu imc é', imc)\n"
      ]
    },
    {
      "cell_type": "code",
      "execution_count": 22,
      "id": "a5b2bcc1",
      "metadata": {
        "colab": {
          "base_uri": "https://localhost:8080/"
        },
        "id": "a5b2bcc1",
        "outputId": "101d2545-bf50-46d5-ecbd-3d3933050844"
      },
      "outputs": [
        {
          "name": "stdout",
          "output_type": "stream",
          "text": [
            "Qual o valor? 15\n",
            "O novo valor aumentado é 17.25\n"
          ]
        }
      ],
      "source": [
        "# 13. Faça um programa que peça um valor monetário e aumente-o em 15%. Seu programa deve imprimir a mensagem “O novo valor é R$[valor]”.\n",
        "valor = float(input('Qual o valor? '))\n",
        "# print('O novo valor aumentado é R$', round(valor*1.15))\n",
        "print('O novo valor aumentado é {:.2f}'.format(valor*1.15))"
      ]
    },
    {
      "cell_type": "code",
      "execution_count": 23,
      "id": "4ea72f9d",
      "metadata": {
        "colab": {
          "base_uri": "https://localhost:8080/"
        },
        "id": "4ea72f9d",
        "outputId": "0fd7987d-3123-49b1-b4ef-f40e41cf5adb"
      },
      "outputs": [
        {
          "name": "stdout",
          "output_type": "stream",
          "text": [
            "Qual o valor? 15\n",
            "O novo valor com desconto é R$ 12.75\n"
          ]
        }
      ],
      "source": [
        "#14. Faça um programa que peça um valor monetário e diminua-o em 15%. Seu programa deve imprimir a mensagem “O novo valor é R$[valor]”.\n",
        "valor = float(input('Qual o valor? '))\n",
        "\n",
        "print('O novo valor com desconto é R$', valor*0.85)"
      ]
    },
    {
      "cell_type": "markdown",
      "id": "3b58746c",
      "metadata": {
        "id": "3b58746c"
      },
      "source": [
        "## Desafios"
      ]
    },
    {
      "cell_type": "code",
      "execution_count": 25,
      "id": "ca767ba2",
      "metadata": {
        "colab": {
          "base_uri": "https://localhost:8080/"
        },
        "id": "ca767ba2",
        "outputId": "12309180-6a97-4341-844d-99738f2af015"
      },
      "outputs": [
        {
          "name": "stdout",
          "output_type": "stream",
          "text": [
            "Digite a posição inicial: 0\n",
            "Digite a velocidade inicial: 120\n",
            "Digite um instante no tempo: 2\n",
            "A posicao no instante t = 2.0 é 220.0\n"
          ]
        }
      ],
      "source": [
        "#Desafio 1. Peça para o usuário digitar uma velocidade inicial (em m/s), uma posição inicial (em m) e um instante de tempo (em s) e imprima a posição de um projétil nesse instante de tempo.\n",
        "posicao_inicial = float(input('Digite a posição inicial: '))\n",
        "velocidade_inicial = float(input('Digite a velocidade inicial: '))\n",
        "tempo = float(input('Digite um instante no tempo: '))\n",
        "GRAVIDADE = -10\n",
        "\n",
        "y = posicao_inicial + velocidade_inicial * tempo + 0.5 * GRAVIDADE * tempo**2\n",
        "\n",
        "print('A posicao no instante t =', tempo\n",
        "      , 'é', y)\n"
      ]
    },
    {
      "cell_type": "code",
      "execution_count": 26,
      "id": "0fcfb3de",
      "metadata": {
        "colab": {
          "base_uri": "https://localhost:8080/"
        },
        "id": "0fcfb3de",
        "outputId": "e6e98046-2f8e-42f6-89c6-99391859ac13"
      },
      "outputs": [
        {
          "name": "stdout",
          "output_type": "stream",
          "text": [
            "O horario é 2023-10-30 02:02:19.005370\n"
          ]
        }
      ],
      "source": [
        "# Desafio 2.Faça um programa que informe a data e a hora para o usuário. Para isso use a função datetime.now() do módulo datetime.\n",
        "\n",
        "import datetime\n",
        "\n",
        "horario = datetime.datetime.now()\n",
        "\n",
        "print('O horario é', horario)\n",
        "\n",
        "\n"
      ]
    }
  ],
  "metadata": {
    "colab": {
      "provenance": []
    },
    "kernelspec": {
      "display_name": "Python 3 (ipykernel)",
      "language": "python",
      "name": "python3"
    },
    "language_info": {
      "codemirror_mode": {
        "name": "ipython",
        "version": 3
      },
      "file_extension": ".py",
      "mimetype": "text/x-python",
      "name": "python",
      "nbconvert_exporter": "python",
      "pygments_lexer": "ipython3",
      "version": "3.11.4"
    }
  },
  "nbformat": 4,
  "nbformat_minor": 5
}
