{
  "cells": [
    {
      "cell_type": "code",
      "execution_count": 3,
      "id": "d43e3db7",
      "metadata": {
        "colab": {
          "base_uri": "https://localhost:8080/"
        },
        "id": "d43e3db7",
        "outputId": "828f6490-513b-4e38-f427-42418d4f9ecf"
      },
      "outputs": [
        {
          "output_type": "stream",
          "name": "stdout",
          "text": [
            "Digite sua idade: 15\n",
            "Sua idade é 15. Portando é menor de idade\n"
          ]
        }
      ],
      "source": [
        "# 1. Faça um programa que peça a idade do usuário e imprima se ele é maior ou menor de 18 anos.\n",
        "idade = int(input('Digite sua idade: '))\n",
        "\n",
        "if idade < 18:\n",
        "  print(f'Sua idade é {idade}. Portando é menor de idade')\n",
        "else:\n",
        "  print(f'Sua idade é {idade}. Portando é maior de idade')\n"
      ]
    },
    {
      "cell_type": "code",
      "execution_count": 7,
      "id": "8e227269",
      "metadata": {
        "colab": {
          "base_uri": "https://localhost:8080/"
        },
        "id": "8e227269",
        "outputId": "96d9afb7-f68a-4c1f-85da-23eab02538c8"
      },
      "outputs": [
        {
          "output_type": "stream",
          "name": "stdout",
          "text": [
            "Digite um numero: -1\n",
            "Número -1 é negativo\n"
          ]
        }
      ],
      "source": [
        "# 2. Faça um programa que peça um número e mostre se ele é positivo ou negativo.\n",
        "num = int(input('Digite um numero: '))\n",
        "\n",
        "if num < 0:\n",
        "  print(f'Número {num} é negativo')\n",
        "else:\n",
        "  print(f'Número {num} é positivo')\n",
        "\n"
      ]
    },
    {
      "cell_type": "code",
      "execution_count": 10,
      "id": "619aedef",
      "metadata": {
        "colab": {
          "base_uri": "https://localhost:8080/"
        },
        "id": "619aedef",
        "outputId": "24797755-af42-4b45-ade7-89229719e20e"
      },
      "outputs": [
        {
          "output_type": "stream",
          "name": "stdout",
          "text": [
            "Digite um numero: 5\n",
            "Número 5 é impar\n"
          ]
        }
      ],
      "source": [
        "# 3. Faça um programa que dado um número digitado, mostre se ele é Par ou Ímpar.\n",
        "num = int(input('Digite um numero: '))\n",
        "\n",
        "if num % 2 == 0:\n",
        "  print(f'Número {num} é par')\n",
        "else:\n",
        "  print(f'Número {num} é impar')"
      ]
    },
    {
      "cell_type": "code",
      "execution_count": 16,
      "id": "1a17ca75",
      "metadata": {
        "colab": {
          "base_uri": "https://localhost:8080/"
        },
        "id": "1a17ca75",
        "outputId": "97484738-6f58-41d3-9f15-b4cd3fbd0dfe"
      },
      "outputs": [
        {
          "output_type": "stream",
          "name": "stdout",
          "text": [
            "Digite 1º um numero: 1\n",
            "Digite 2º um numero: 3\n",
            "2º Número , 3 é maior\n"
          ]
        }
      ],
      "source": [
        "# 4. Faça um programa que peça dois números e mostre o maior deles.\n",
        "num1 = int(input('Digite 1º um numero: '))\n",
        "num2 = int(input('Digite 2º um numero: '))\n",
        "\n",
        "if num1 > num2:\n",
        "  print(f'1º Número ,{num1} é maior')\n",
        "else:\n",
        "  print(f'2º Número , {num2} é maior')\n"
      ]
    },
    {
      "cell_type": "code",
      "execution_count": 34,
      "id": "fd421632",
      "metadata": {
        "colab": {
          "base_uri": "https://localhost:8080/"
        },
        "id": "fd421632",
        "outputId": "5112ddd4-760f-4b8e-8f0e-32a27abf2934"
      },
      "outputs": [
        {
          "output_type": "stream",
          "name": "stdout",
          "text": [
            "Digite seu genero M=masculino - F=feminino ou O=Outros: d\n",
            "Opção inválida.\n"
          ]
        }
      ],
      "source": [
        "# 5. Faça um programa que leia a validade das informações:\n",
        "#a.Idade: entre 0 e 150;\n",
        "idade = float(input('Digite sua idade: '))\n",
        "if idade >= 0 and idade <=150:\n",
        "  print(f'{idade} anos, idade válida')\n",
        "else:\n",
        "  print(f'{idade} anos, idade inválida')\n",
        "\n",
        "#b.Salario: maior que 0;\n",
        "salario = float(input('Digite seu salário: '))\n",
        "\n",
        "if salario <= 0:\n",
        "  print(f'{salario} reais, salario inválida')\n",
        "else:\n",
        " print(f'{salario} reais, salario válida')\n",
        "\n",
        "#c.Sexo: M ou F;\n",
        "\n",
        "genero = (input('Digite seu genero M=masculino - F=feminino ou O=Outros: ')).lower()\n",
        "\n",
        "if genero == 'm':\n",
        "  print('Masculino, ok')\n",
        "elif genero == 'f':\n",
        "  print('Feminino, ok')\n",
        "elif genero == 'o':\n",
        "  print('Digite qual genero: ')\n",
        "else:\n",
        "  print('Opção inválida.')\n"
      ]
    },
    {
      "cell_type": "code",
      "execution_count": 39,
      "id": "6dbe0529",
      "metadata": {
        "colab": {
          "base_uri": "https://localhost:8080/"
        },
        "id": "6dbe0529",
        "outputId": "ef985947-86c5-40f2-8c20-937814f5e055"
      },
      "outputs": [
        {
          "output_type": "stream",
          "name": "stdout",
          "text": [
            "Digite 1ª nota: 5\n",
            "Digite 2ª nota: 5\n",
            "Digite 3ª nota: 8\n",
            "Média = 6.0.Parabéns, Aprovado!\n"
          ]
        }
      ],
      "source": [
        "from pickle import NONE\n",
        "# 6. Escreva um programa que peça a nota de 3 provas de um aluno e verifique se ele passou ou não de ano.\n",
        "nota1 = float(input('Digite 1ª nota: '))\n",
        "nota2 = float(input('Digite 2ª nota: '))\n",
        "nota3 = float(input('Digite 3ª nota: '))\n",
        "\n",
        "soma = nota1 + nota2 + nota3\n",
        "\n",
        "media = soma/3\n",
        "\n",
        "if media > 5:\n",
        "  print(f'Média = {media}.Parabéns, Aprovado!')\n",
        "else:\n",
        "  print(f'Média = {media}. Que pena, reprovado.')"
      ]
    },
    {
      "cell_type": "code",
      "execution_count": 44,
      "id": "f65b1b07",
      "metadata": {
        "colab": {
          "base_uri": "https://localhost:8080/"
        },
        "id": "f65b1b07",
        "outputId": "8d08d5c3-bfaa-4a4e-94cf-8a198042b498"
      },
      "outputs": [
        {
          "output_type": "stream",
          "name": "stdout",
          "text": [
            "QUem descobriu os Brasil?\n",
            "Digite sua escolha: e\n",
            "Resposta letra --> e, acertou!\n"
          ]
        }
      ],
      "source": [
        "# 7. Faça um programa que mostre uma questão de múltipla escolha com 5 opções (letras a, b, c, d, e e).\n",
        "print('QUem descobriu os Brasil?')\n",
        "\n",
        "'''\n",
        "a - Voçe\n",
        "\n",
        "b - Ricardão\n",
        "\n",
        "c - Ricardinho\n",
        "\n",
        "d - Pedro do varmengo\n",
        "\n",
        "e - Os indios\n",
        "'''\n",
        "resposta = input('Digite sua escolha: ').lower()\n",
        "\n",
        "if resposta == 'e':\n",
        "  print(f'Resposta letra --> {resposta}, acertou!')\n",
        "else:\n",
        "  print(f'Resposta letra --> {resposta}, errou!')\n"
      ]
    },
    {
      "cell_type": "code",
      "execution_count": null,
      "id": "b11d82f9",
      "metadata": {
        "id": "b11d82f9"
      },
      "outputs": [],
      "source": [
        "# 8. Vamos fazer um programa para verificar quem é o assassino de um crime.\n",
        "\n"
      ]
    },
    {
      "cell_type": "code",
      "execution_count": null,
      "id": "6cfb7bef",
      "metadata": {
        "id": "6cfb7bef"
      },
      "outputs": [],
      "source": [
        "# 9. Um produto vai sofrer aumento de acordo com as tabelas na lista de exercicios.\n",
        "\n"
      ]
    },
    {
      "cell_type": "code",
      "execution_count": null,
      "id": "d77825ed",
      "metadata": {
        "id": "d77825ed"
      },
      "outputs": [],
      "source": [
        "# Desafio 1. Faça um programa que leia 3 números e informe o maior deles.\n",
        "\n"
      ]
    },
    {
      "cell_type": "code",
      "execution_count": null,
      "id": "98cc9237",
      "metadata": {
        "id": "98cc9237"
      },
      "outputs": [],
      "source": [
        "# Desafio 2. Faça o mesmo programa do exercício anterior, porém com 4 números.\n",
        "\n",
        "\n"
      ]
    },
    {
      "cell_type": "code",
      "execution_count": null,
      "id": "eb41644b",
      "metadata": {
        "id": "eb41644b"
      },
      "outputs": [],
      "source": [
        "# Desafio 3. Um hospital quer fazer o diagnóstico de gripe ou dengue a partir de um questionário de sintomas.\n",
        "\n"
      ]
    }
  ],
  "metadata": {
    "kernelspec": {
      "display_name": "Python 3 (ipykernel)",
      "language": "python",
      "name": "python3"
    },
    "language_info": {
      "codemirror_mode": {
        "name": "ipython",
        "version": 3
      },
      "file_extension": ".py",
      "mimetype": "text/x-python",
      "name": "python",
      "nbconvert_exporter": "python",
      "pygments_lexer": "ipython3",
      "version": "3.9.6"
    },
    "colab": {
      "provenance": []
    }
  },
  "nbformat": 4,
  "nbformat_minor": 5
}