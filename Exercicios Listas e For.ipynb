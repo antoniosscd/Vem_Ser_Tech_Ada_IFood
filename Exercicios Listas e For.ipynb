{
 "cells": [
  {
   "cell_type": "code",
   "execution_count": 1,
   "id": "3d9f8cc5",
   "metadata": {},
   "outputs": [
    {
     "name": "stdout",
     "output_type": "stream",
     "text": [
      "1\n",
      "2\n",
      "3\n",
      "4\n",
      "5\n",
      "6\n"
     ]
    }
   ],
   "source": [
    "# 1. Crie uma lista qualquer e faça um programa que imprima cada elemento da lista usando o for.\n",
    "\n",
    "lista1 = [1,2,3,4,5,6]\n",
    "\n",
    "for i in lista1:\n",
    "    print(i)\n"
   ]
  },
  {
   "cell_type": "code",
   "execution_count": 23,
   "id": "9ef88e55",
   "metadata": {},
   "outputs": [
    {
     "name": "stdout",
     "output_type": "stream",
     "text": [
      "1\n",
      "2\n",
      "3\n",
      "4\n",
      "5\n",
      "6\n"
     ]
    }
   ],
   "source": [
    "# 2. Faça um programa que imprima todos os itens de uma lista usando while e compare com o exercício 1.\n",
    "\n",
    "lista1 = [1,2,3,4,5,6]\n",
    "\n",
    "cont = 0 # Diferente do for, no while é preciso uma variável contadora, é ela que percorre a lista e imprime seu conteúdo, além de controlar o fluxo do laço.\n",
    "\n",
    "while cont < len(lista1):\n",
    "    print(lista1[cont])\n",
    "    cont+=1\n",
    "    \n"
   ]
  },
  {
   "cell_type": "code",
   "execution_count": 2,
   "id": "bdf979c5",
   "metadata": {},
   "outputs": [
    {
     "name": "stdout",
     "output_type": "stream",
     "text": [
      "0\n",
      "1\n",
      "2\n",
      "3\n",
      "4\n"
     ]
    }
   ],
   "source": [
    "# 3. Faça um programa que peça para o usuário digitar um número n e imprima uma lista com todos os números de 0 a n-1.\n",
    "\n",
    "num = int(input(\"Digite um numero: \"))\n",
    "\n",
    "for i in range(num):\n",
    "    print(i)"
   ]
  },
  {
   "cell_type": "code",
   "execution_count": 16,
   "id": "84fe3068",
   "metadata": {},
   "outputs": [
    {
     "name": "stdout",
     "output_type": "stream",
     "text": [
      "Na lista existe 7 numeros páres. São eles: [4, 4.0, 10, 12, 6, 18, 128]\n"
     ]
    }
   ],
   "source": [
    "# 4. Faça um programa que olhe todos os itens de uma lista e diga quantos deles são pares. \n",
    "\n",
    "lista = [3,4,2.5, 4.0,10,12,12.5,6,7,25,18,128]\n",
    "pares = 0\n",
    "lista_pares = []\n",
    "for i in range(len(lista)):\n",
    "    if lista[i] %2 ==0:\n",
    "        lista_pares.append(lista[i])\n",
    "        pares+=1\n",
    "print(f'Na lista exíste {pares} numeros páres. São eles: {lista_pares}')"
   ]
  },
  {
   "cell_type": "code",
   "execution_count": 18,
   "id": "c2f114db",
   "metadata": {},
   "outputs": [
    {
     "name": "stdout",
     "output_type": "stream",
     "text": [
      " O número maior da lista é o 128\n"
     ]
    }
   ],
   "source": [
    "# 5. Faça um programa que imprima o maior número de uma lista, sem usar o método max().\n",
    "lista = [3,4,2.5,128,10,12,6,7,25,18]\n",
    "maior = 0\n",
    "\n",
    "for i in range(len(lista)):\n",
    "    if  lista[i] > maior:\n",
    "        maior = lista[i]\n",
    "print(f' O número maior da lista é o {maior}')\n",
    "        \n"
   ]
  },
  {
   "cell_type": "code",
   "execution_count": 116,
   "id": "bec80550",
   "metadata": {},
   "outputs": [
    {
     "name": "stdout",
     "output_type": "stream",
     "text": [
      "[2.5, 3, 4, 6, 7, 10, 12, 18, 25, 128]\n",
      "128\n",
      "25\n",
      "18\n"
     ]
    }
   ],
   "source": [
    "# 6. Agora usando o método max() faça um programa que imprima os três maiores números de uma lista. \n",
    "lista = [3,4,2.5,128,10,12,6,7,25,18]\n",
    "lista.sort()\n",
    "print(lista)  \n",
    "\n",
    "for i in range(3):\n",
    "    print(max(lista))     \n",
    "    lista.remove(lista[-1])\n",
    "    cont+=1\n",
    "    "
   ]
  },
  {
   "cell_type": "code",
   "execution_count": 109,
   "id": "e58d2bae",
   "metadata": {},
   "outputs": [
    {
     "name": "stdout",
     "output_type": "stream",
     "text": [
      "[6, 8, 5.0, 256, 20, 24, 12, 14, 50, 36]\n"
     ]
    }
   ],
   "source": [
    "# 7. Faça um programa que, dadas duas listas de mesmo tamanho, crie uma nova lista com cada \n",
    "# elemento igual a soma dos elementos da lista 1 com os da lista 2, na mesma posição. \n",
    "\n",
    "lista1 = [3,4,2.5,128,10,12,6,7,25,18]\n",
    "lista2 = [3,4,2.5,128,10,12,6,7,25,18]\n",
    "lista_soma = []\n",
    "\n",
    "for i in range(len(lista1)):\n",
    "    lista_soma.append(lista1[i] + lista2[i])\n",
    "print(lista_soma)"
   ]
  },
  {
   "cell_type": "code",
   "execution_count": 111,
   "id": "b182c2af",
   "metadata": {},
   "outputs": [
    {
     "name": "stdout",
     "output_type": "stream",
     "text": [
      "9\n",
      "25\n",
      "31.25\n",
      "131.25\n",
      "275.25\n",
      "311.25\n",
      "360.25\n",
      "985.25\n",
      "1309.25\n"
     ]
    }
   ],
   "source": [
    "# 8. Faça um programa que dadas duas listas de mesmo tamanho, imprima o produto escalar entre elas. \n",
    "# O produto escalar é a soma dos produtos de uma lista dois a dois\n",
    "# por exemplo, nas listas [1, 3, 5] e [2, 4, 6] se resolve (1*2) + (3*4) + (6*5) = 44\n",
    "\n",
    "lista1 = [3,4,2.5,10,12,6,7,25,18]\n",
    "lista2 = [3,4,2.5,10,12,6,7,25,18]\n",
    "lista_soma = 0\n",
    "\n",
    "for i in range(len(lista1)):\n",
    "    lista_soma+=(lista1[i] * lista2[i])\n",
    "    print(lista_soma)\n"
   ]
  },
  {
   "cell_type": "code",
   "execution_count": 123,
   "id": "7d4c9b9d",
   "metadata": {},
   "outputs": [
    {
     "name": "stdout",
     "output_type": "stream",
     "text": [
      "Nota 1 = 6.0\n",
      "Nota 2 = 9.0\n",
      "Nota 3 = 1.0\n",
      "Nota 4 = 4.0\n",
      "Media = 5.0\n",
      "4\n"
     ]
    }
   ],
   "source": [
    "## 9. Faça um Programa que peça as 4 notas bimestrais e mostre a média\n",
    "## aritmética delas, usando listas.\n",
    "notas = []\n",
    "soma_notas = 0\n",
    "media = 0\n",
    "\n",
    "for i in range(4):\n",
    "    nota = float(input(f'Digite a {i+1} nota: '))\n",
    "    print(f'Nota {i+1} = {nota}')\n",
    "    notas.append(nota)\n",
    "    media += 1 \n",
    "\n",
    "soma_notas = sum(notas)\n",
    "print(f'Media = {soma_notas/media}')\n",
    "print(media)\n"
   ]
  },
  {
   "cell_type": "code",
   "execution_count": 149,
   "id": "2427237b",
   "metadata": {},
   "outputs": [
    {
     "name": "stdout",
     "output_type": "stream",
     "text": [
      "Lista com números sorteados -->> [34, 58, 67, 40, 20, 7, 89, 86, 78, 13]\n",
      "Lista com os 4 primeiros números -->> [34, 58, 67, 40]\n",
      "Lista com os 5 últimos números -->> [7, 89, 86, 78, 13]\n",
      "Lista contendo apenas os elementos das posições pares -->> [0, 2, 4, 6, 8, 10]\n",
      "Lista contendo apenas os elementos das posições ímpares -->> [1, 3, 5, 7, 9]\n",
      "a lista inversa da lista sorteada -->> [13, 78, 86, 89, 7, 20, 40, 67, 58, 34]\n",
      "Lista inversa dos 5 primeiros números -->> [20, 67, 34, 58, 40]\n",
      "Lista inversa dos 5 últimos números -->> [13, 86, 7, 89, 78]\n"
     ]
    }
   ],
   "source": [
    "## 12. Sorteie uma lista de 10 números e imprima: \n",
    "\n",
    "\n",
    "#A função random.randint é utilizada em conjunto com o for, para gerar uma lista contendo 10 números escolhidos aleatoriamente.\n",
    "\n",
    "import random \n",
    "\n",
    "num_sorteados = [random.randint(1, 100) for i in range(10)]\n",
    "\n",
    "print(f'Lista com números sorteados -->> {num_sorteados}')\n",
    "\n",
    "\n",
    "# a.  uma lista com os 4 primeiros números;\n",
    "lista_a = []\n",
    "for i in range(4):\n",
    "    lista_a.append(num_sorteados[i])\n",
    "print(f'Lista com os 4 primeiros números -->> {lista_a}')\n",
    "   \n",
    "# b.  uma lista com os 5 últimos números;\n",
    "lista_b = []\n",
    "for i in range(5,len(num_sorteados)):\n",
    "    lista_b.append(num_sorteados[i])\n",
    "print(f'Lista com os 5 últimos números -->> {lista_b}')\n",
    "\n",
    "# c.  uma lista contendo apenas os elementos das posições pares;\n",
    "lista_c = []\n",
    "for i in range(len(num_sorteados)+1):\n",
    "    if i % 2 == 0:\n",
    "        lista_c.append(i)\n",
    "print(f'Lista contendo apenas os elementos das posições pares -->> {lista_c}')\n",
    "\n",
    "\n",
    "# d.  uma lista contendo apenas os elementos das posições ímpares;\n",
    "lista_d = []\n",
    "for i in range(len(num_sorteados)+1):\n",
    "    if i % 2 != 0:\n",
    "        lista_d.append(i)\n",
    "print(f'Lista contendo apenas os elementos das posições ímpares -->> {lista_d}')\n",
    "\n",
    "# e.  a lista inversa da lista sorteada (isto é, uma lista que começa com o último elemento da lista \n",
    "# sorteada e termina com o primeiro);\n",
    "\n",
    "lista_e = num_sorteados[::-1] #Notação de fatiamento, resulta em um lista com as posiões invertidas, sem auterar a lista original.\n",
    "\n",
    "print(f'a lista inversa da lista sorteada -->> {lista_e}')\n",
    "\n",
    "\n",
    "# f.  uma lista inversa dos 5 primeiros números;\n",
    "lista_f = []\n",
    "for i in range(5):\n",
    "    lista_f.append(num_sorteados[i])\n",
    "    lista_f = lista_f[::-1]\n",
    "print(f'Lista inversa dos 5 primeiros números -->> {lista_f}',)\n",
    "\n",
    "# g.  uma lista inversa dos 5 últimos números.\n",
    "\n",
    "lista_g = []\n",
    "for i in range(5,len(num_sorteados)):\n",
    "    lista_g.append(num_sorteados[i])\n",
    "    lista_g = lista_g[::-1]\n",
    "print(f'Lista inversa dos 5 últimos números -->> {lista_g}')\n"
   ]
  },
  {
   "cell_type": "code",
   "execution_count": 158,
   "id": "b47d5c1d",
   "metadata": {},
   "outputs": [
    {
     "name": "stdout",
     "output_type": "stream",
     "text": [
      "Lista com números sorteados -->> [81, 2, 80, 12, 50, 7, 3, 71, 96, 35]\n",
      "Números sorteados maiores que 50 -->> 4\n"
     ]
    }
   ],
   "source": [
    "## 13. Faça um programa que sorteia 10 números entre 0 e 100 e conte\n",
    "## quantos números sorteados são maiores que 50. \n",
    "import random \n",
    "\n",
    "num_sorteados = [random.randint(0, 100) for i in range(10)]\n",
    "\n",
    "print(f'Lista com números sorteados -->> {num_sorteados}')\n",
    "\n",
    "contador = 0\n",
    "for i in range(len(num_sorteados)):\n",
    "    if num_sorteados[i] > 50:\n",
    "        contador += 1\n",
    "\n",
    "print(f'Números sorteados maiores que 50 -->> {contador}')\n"
   ]
  },
  {
   "cell_type": "code",
   "execution_count": 164,
   "id": "5a2486a7",
   "metadata": {},
   "outputs": [
    {
     "name": "stdout",
     "output_type": "stream",
     "text": [
      "Lista com números sorteados -->> [47, 64, 35, 44, 62, 100, 23, 91, 74, 62]\n",
      "o maior número sorteado -->> 100\n",
      "o menor número sorteado -->> 23\n",
      "a média dos números sorteados -->> 60.2\n",
      "a média dos números sorteados -->> 602\n"
     ]
    }
   ],
   "source": [
    "## 14. Faça um programa que sorteie 10 números entre 0 e 100 e imprima: \n",
    "\n",
    "import random \n",
    "\n",
    "num_sorteados = [random.randint(0, 100) for i in range(10)]\n",
    "\n",
    "print(f'Lista com números sorteados -->> {num_sorteados}')\n",
    "\n",
    "\n",
    "# a.  o maior número sorteado;\n",
    "num_a = max(num_sorteados)\n",
    "print(f'o maior número sorteado -->> {num_a}')\n",
    "\n",
    "# b.  o menor número sorteado;\n",
    "num_b = min(num_sorteados)\n",
    "print(f'o menor número sorteado -->> {num_b}')\n",
    "\n",
    "# c.  a média dos números sorteados;\n",
    "\n",
    "soma = 0\n",
    "media = 0\n",
    "\n",
    "for i in range(len(num_sorteados)):\n",
    "    soma += num_sorteados[i]\n",
    "media = soma/len(num_sorteados)\n",
    "\n",
    "print(F'a média dos números sorteados -->> {media}')\n",
    "\n",
    "# d.  a soma dos números sorteados.\n",
    "soma = 0\n",
    "\n",
    "for i in range(len(num_sorteados)):\n",
    "    soma += num_sorteados[i]\n",
    "print(F'a média dos números sorteados -->> {soma}')\n"
   ]
  },
  {
   "cell_type": "code",
   "execution_count": 4,
   "id": "ab2eea2d",
   "metadata": {},
   "outputs": [
    {
     "name": "stdout",
     "output_type": "stream",
     "text": [
      "ficha_comp -->>  ['Antonio', 42, [5.0, 5.0, 5.0, 5.0, 10.0], 6.0, True]\n"
     ]
    }
   ],
   "source": [
    "#Desafio 1. Faça um programa que peça para o usuário digitar o nome e a idade de um aluno e o número de provas que esse aluno fez. \n",
    "# Depois, o programa deve pedir para o usuário digitar as notas de cada prova do aluno. \n",
    "# Ao final o programa deve imprimir uma lista contendo:\n",
    "\n",
    "# a.  Nome do aluno na posição 0\n",
    "# b.  Idade do aluno na posição 1\n",
    "# c.  Uma lista com todas as notas na posição 2 \n",
    "# d.  A média do aluno na posição 3\n",
    "# e.  True ou False, caso a média seja maior que 5 ou não, na posição 4\n",
    "\n",
    "\n",
    "nome_aluno = input('Aluno, digite seu nome: ').capitalize()\n",
    "idade_aluno = int(input('Agora digite sua idade: '))\n",
    "num_provas = int(input('Agora informe quantas provas voçe realizou: '))\n",
    "nota_provas= [float(input(f'Agora informe a nota {i+1}: '))for i in range(num_provas)]\n",
    "\n",
    "media = sum(nota_provas)/num_provas\n",
    "\n",
    "ficha_aluno = [nome_aluno,idade_aluno,nota_provas,media,media>5]\n",
    "\n",
    "print('ficha_comp -->> ', ficha_aluno)\n",
    "\n",
    "\n",
    "\n",
    "\n",
    "\n"
   ]
  },
  {
   "cell_type": "code",
   "execution_count": 14,
   "id": "f9bc1ba4",
   "metadata": {},
   "outputs": [],
   "source": [
    "# Desafio 2. Faça um programa como o do item anterior, porém que imprima a média \n",
    "## sem considerar a maior e menor nota do aluno \n",
    "## (nesse caso o número de provas precisa ser obrigatoriamente maior que dois).\n",
    "\n"
   ]
  },
  {
   "cell_type": "code",
   "execution_count": 15,
   "id": "4ba481e9",
   "metadata": {},
   "outputs": [
    {
     "data": {
      "text/plain": [
       "'\\nDesafio HEAVY METAL.\\n\\nFaça um programa que pede para o usuário digitar o CPF e verifica se\\nele é válido. Para isso, primeiramente o programa deve multiplicar\\ncada um dos 9 primeiros dígitos do CPF pelos números de 10 a 2 e\\nsomar todas as respostas. O resultado deve ser multiplicado por 10 e\\ndividido por 11. O resto dessa divisão deve ser igual ao primeiro dígito\\nverificador (10º dígito). Em seguida, o programa deve multiplicar cada \\num dos 10 primeiros dígitos do CPF pelos números de 11 a 2 e repetir\\no procedimento anterior para verificar o segundo dígito verificador.\\n\\nExemplo:\\nSe o CPF for 286.255.878-87 o programa deve fazer primeiro:\\n x = (2*10 + 8*9 + 6*8 + 2*7 + 5*6 + 5*5 + 8*4 + 7*3 + 8*2).\\nEm seguida o programa deve testar se x*10%11 == 8 (o décimo número\\ndo CPF).\\n\\nSe sim, o programa deve calcular\\n x = (2*11 + 8*10 + 6*9 + 2*8 + 5*7 + 5*6 + 8*5 + 7*4 + 8*3 + 8*2)\\ne verificar se x*10%11 == 7 (o décimo primeiro número do CPF)\\n'"
      ]
     },
     "execution_count": 15,
     "metadata": {},
     "output_type": "execute_result"
    }
   ],
   "source": [
    "'''\n",
    "Desafio HEAVY METAL.\n",
    "\n",
    "Faça um programa que pede para o usuário digitar o CPF e verifica se\n",
    "ele é válido. Para isso, primeiramente o programa deve multiplicar\n",
    "cada um dos 9 primeiros dígitos do CPF pelos números de 10 a 2 e\n",
    "somar todas as respostas. O resultado deve ser multiplicado por 10 e\n",
    "dividido por 11. O resto dessa divisão deve ser igual ao primeiro dígito\n",
    "verificador (10º dígito). Em seguida, o programa deve multiplicar cada \n",
    "um dos 10 primeiros dígitos do CPF pelos números de 11 a 2 e repetir\n",
    "o procedimento anterior para verificar o segundo dígito verificador.\n",
    "\n",
    "Exemplo:\n",
    "Se o CPF for 286.255.878-87 o programa deve fazer primeiro:\n",
    " x = (2*10 + 8*9 + 6*8 + 2*7 + 5*6 + 5*5 + 8*4 + 7*3 + 8*2).\n",
    "Em seguida o programa deve testar se x*10%11 == 8 (o décimo número\n",
    "do CPF).\n",
    "\n",
    "Se sim, o programa deve calcular\n",
    " x = (2*11 + 8*10 + 6*9 + 2*8 + 5*7 + 5*6 + 8*5 + 7*4 + 8*3 + 8*2)\n",
    "e verificar se x*10%11 == 7 (o décimo primeiro número do CPF)\n",
    "'''\n",
    "\n"
   ]
  }
 ],
 "metadata": {
  "kernelspec": {
   "display_name": "Python 3 (ipykernel)",
   "language": "python",
   "name": "python3"
  },
  "language_info": {
   "codemirror_mode": {
    "name": "ipython",
    "version": 3
   },
   "file_extension": ".py",
   "mimetype": "text/x-python",
   "name": "python",
   "nbconvert_exporter": "python",
   "pygments_lexer": "ipython3",
   "version": "3.11.4"
  }
 },
 "nbformat": 4,
 "nbformat_minor": 5
}
